{
 "cells": [
  {
   "cell_type": "code",
   "execution_count": 1,
   "metadata": {
    "collapsed": true
   },
   "outputs": [
    {
     "name": "stdout",
     "output_type": "stream",
     "text": [
      "torch.Size([32, 512])\n"
     ]
    },
    {
     "name": "stdout",
     "output_type": "stream",
     "text": [
      "torch.Size([32, 512])\n"
     ]
    }
   ],
   "source": [
    "import foolbox\n",
    "import torch\n",
    "import numpy as np\n",
    "from student_net_learning.models.densenet import densenet201\n",
    "from foolbox.criteria import TargetClass\n",
    "from torchvision import transforms\n",
    "import os\n",
    "import pandas as pd\n",
    "from tqdm import tqdm\n",
    "import scipy.misc\n",
    "from skimage.measure import compare_ssim\n",
    "\n",
    "\n",
    "os.environ[\"CUDA_DEVICE_ORDER\"] = \"PCI_BUS_ID\"\n",
    "os.environ[\"CUDA_VISIBLE_DEVICES\"] = \"0\"\n",
    "\n",
    "args = {\n",
    "    'root':'../data/imgs/',\n",
    "    'save_root':'./baseline1/',\n",
    "    'datalist':'../data/pairs_list.csv',\n",
    "    'model_name':'DenseNet',\n",
    "    'checkpoint_path':'./student_net_learning/checkpoint/DenseNet/best_model_chkpt.t7',\n",
    "    'cuda':'0'\n",
    "}\n",
    "\n",
    "pair_imgs_dir='../data/imgs'\n",
    "\n",
    "torchmodel = densenet201(pretrained=True)\n",
    "checkpoint = torch.load(\"./student_net_learning/checkpoint/DenseNet/best_model_chkpt.t7\")\n",
    "torchmodel.load_state_dict(checkpoint['net'])\n",
    "\n",
    "torchmodel.cuda()\n",
    "\n",
    "torchmodel.eval()\n",
    "\n",
    "fmodel = foolbox.models.PyTorchModel(torchmodel, bounds=(0, 255), num_classes=512)\n",
    "\n",
    "img_pairs = pd.read_csv(\"../data/pairs_list.csv\")\n",
    "\n",
    "def get_ssim(original_img,changed_img):\n",
    "    ssim = compare_ssim(np.array(original_img, dtype=np.float32),\n",
    "                        np.array(changed_img, dtype=np.float32),\n",
    "                        multichannel=True)\n",
    "    return ssim\n",
    "\n",
    "from foolbox.attacks import LBFGSAttack\n",
    "from foolbox.criteria import TargetClass\n"
   ]
  },
  {
   "cell_type": "code",
   "execution_count": 11,
   "metadata": {
    "collapsed": true
   },
   "outputs": [
    {
     "name": "stderr",
     "output_type": "stream",
     "text": [
      "\r  0%|          | 0/1000 [00:00<?, ?it/s]"
     ]
    },
    {
     "name": "stdout",
     "output_type": "stream",
     "text": [
      "\nbefore: 402\n after: 260\n ssim: 0.5113230111222025\n"
     ]
    },
    {
     "name": "stderr",
     "output_type": "stream",
     "text": [
      "\n"
     ]
    }
   ],
   "source": [
    "\n",
    "%matplotlib inline \n",
    "import warnings\n",
    "warnings.filterwarnings(\"ignore\")\n",
    "\n",
    "for idx in tqdm(img_pairs.index.values):\n",
    "    pair_dict = {'source': img_pairs.loc[idx].source_imgs.split('|'),\n",
    "                 'target': img_pairs.loc[idx].target_imgs.split('|')}\n",
    "\n",
    "    source_img=os.path.join(args['root'],pair_dict['source'][0])\n",
    "    target_img=pair_dict['target'][0]\n",
    "    original_image=scipy.misc.imread(source_img)\n",
    "    image = scipy.misc.imresize(original_image, (112, 112)).astype(np.float32)\n",
    "    image=image.transpose(2,0,1)\n",
    "\n",
    "    label = np.argmax(fmodel.predictions(image))\n",
    "    attack = foolbox.attacks.FGSM(fmodel)\n",
    "    adversarial = attack(image, label=label)\n",
    "    label_after = np.argmax(fmodel.predictions(adversarial))\n",
    "\n",
    "    print(\"\\nbefore: {}\\n after: {}\\n ssim: {}\".format(label, label_after, get_ssim(image.transpose((1,2,0)),adversarial.transpose(1,2,0))))\n",
    "\n",
    "    break\n"
   ]
  },
  {
   "cell_type": "code",
   "execution_count": null,
   "metadata": {
    "collapsed": true
   },
   "outputs": [
    {
     "name": "stderr",
     "output_type": "stream",
     "text": [
      "\r  0%|          | 0/1000 [00:00<?, ?it/s]"
     ]
    },
    {
     "name": "stdout",
     "output_type": "stream",
     "text": [
      "\nbefore: 402\n after: 260\n ssim: 0.5113230111222025\n"
     ]
    },
    {
     "name": "stderr",
     "output_type": "stream",
     "text": [
      "\n"
     ]
    }
   ],
   "source": [
    "import matplotlib.pyplot as plt\n",
    "\n",
    "plt.figure()\n",
    "\n",
    "plt.subplot(1, 3, 1)\n",
    "plt.title('Original')\n",
    "plt.imshow(image.transpose((1,2,0)) / 255)  # division by 255 to convert [0, 255] to [0, 1]\n",
    "plt.axis('off')\n",
    "\n",
    "adversarial1=adversarial.transpose((1,2,0))\n",
    "plt.subplot(1, 3, 2)\n",
    "plt.title('Adversarial')\n",
    "plt.imshow( adversarial1 / 255)  # division by 255 to convert [0, 255] to [0, 1]\n",
    "plt.axis('off')\n",
    "\n",
    "plt.show()"
   ]
  },
  {
   "cell_type": "code",
   "execution_count": null,
   "metadata": {},
   "outputs": [],
   "source": []
  }
 ],
 "metadata": {
  "kernelspec": {
   "display_name": "Python 2",
   "language": "python",
   "name": "python2"
  },
  "language_info": {
   "codemirror_mode": {
    "name": "ipython",
    "version": 2
   },
   "file_extension": ".py",
   "mimetype": "text/x-python",
   "name": "python",
   "nbconvert_exporter": "python",
   "pygments_lexer": "ipython2",
   "version": "2.7.6"
  }
 },
 "nbformat": 4,
 "nbformat_minor": 0
}
